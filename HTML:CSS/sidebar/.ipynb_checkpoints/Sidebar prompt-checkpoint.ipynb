{
 "cells": [
  {
   "cell_type": "markdown",
   "metadata": {},
   "source": [
    "## Practice: Sidebar\n",
    "\n",
    "---\n",
    "\n",
    "#### Recreate the sidebar layout using just flexbox"
   ]
  },
  {
   "cell_type": "markdown",
   "metadata": {},
   "source": [
    "*   A sidebar that is 30% of the page width, with:\n",
    "\n",
    "    * A site title\n",
    "    * A vertical list of nav links\n",
    "    * Don't worry about making the sidebar full height or a different background color\n",
    "\n",
    "*   A main page taking up the rest of the width, with:\n",
    "\n",
    "    * A page title\n",
    "    * A large image taking up the full width\n",
    "    * Three small paragraphs aligned under the image taking up the full width\n",
    "    * Two full-width paragraphs after that\n",
    "    * Reasonable spacing between all of these elements\n"
   ]
  }
 ],
 "metadata": {
  "kernelspec": {
   "display_name": "Python 3",
   "language": "python",
   "name": "python3"
  },
  "language_info": {
   "codemirror_mode": {
    "name": "ipython",
    "version": 3
   },
   "file_extension": ".py",
   "mimetype": "text/x-python",
   "name": "python",
   "nbconvert_exporter": "python",
   "pygments_lexer": "ipython3",
   "version": "3.6.0"
  }
 },
 "nbformat": 4,
 "nbformat_minor": 2
}
