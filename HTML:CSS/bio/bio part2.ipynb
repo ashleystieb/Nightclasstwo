{
 "cells": [
  {
   "cell_type": "markdown",
   "metadata": {},
   "source": [
    "## Now ramp up the bio page you created"
   ]
  },
  {
   "cell_type": "markdown",
   "metadata": {},
   "source": [
    "#### Add the following to your page\n",
    "\n",
    "* create a nav style bar that will be be fixed to the top of your page at position top 0px and left 0px in this nav bar add following links \n",
    "    * About Me\n",
    "    * Likes\n",
    "    * Dislikes\n",
    "    * Funny Pictures\n",
    "    * Schedule\n",
    "* Each link in the navbar should link to a specific part of your webpage remeber to do this you will us the id of wherever you want to go\n",
    "\n",
    "* Populate the follwoing sections with relevant information"
   ]
  },
  {
   "cell_type": "markdown",
   "metadata": {},
   "source": [
    "#### Add the following things\n",
    "\n",
    "* write up an overall design layout for your webpage before you code\n",
    "* pick a color scheme for the site\n",
    "* add borders around the picture and make the edges rounded slightly\n",
    "* use display styling to achieve the look you want can be done with flexbox, inline-block, inline pretty much anything you could imagine you can use\n",
    "* pretty much style it however you want make it look pretty\n"
   ]
  }
 ],
 "metadata": {
  "kernelspec": {
   "display_name": "Python 3",
   "language": "python",
   "name": "python3"
  },
  "language_info": {
   "codemirror_mode": {
    "name": "ipython",
    "version": 3
   },
   "file_extension": ".py",
   "mimetype": "text/x-python",
   "name": "python",
   "nbconvert_exporter": "python",
   "pygments_lexer": "ipython3",
   "version": "3.6.0"
  }
 },
 "nbformat": 4,
 "nbformat_minor": 2
}
