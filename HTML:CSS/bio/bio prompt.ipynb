{
 "cells": [
  {
   "cell_type": "markdown",
   "metadata": {},
   "source": [
    "# Practice: Bio\n",
    "\n",
    "\n",
    "Write up a short bio webpage for yourself or someone famous.\n",
    "Include:\n",
    "\n",
    "* A written introduction\n",
    "* A link to their favorite Wikipedia article in that introduction\n",
    "* A picture of them (or a placeholder)\n",
    "* A list of places where they've lived\n",
    "* A quote from them\n",
    "* Proper structuring HTML elements\n",
    "\n",
    "The point of this project is _not_ to make something that looks pretty (and it won't), it is just to have good structure. There will be an additional assignment later on that will incoperate styling as well as flexbox and many other things but for now make sure you have a solid understanding of the basics.\n",
    "\n",
    "## Advanced\n",
    "\n",
    "* Peruse the [complete HTML element list](https://developer.mozilla.org/en-US/docs/Web/HTML/Element) and try to incorporate some of them.\n"
   ]
  },
  {
   "cell_type": "code",
   "execution_count": null,
   "metadata": {
    "collapsed": true
   },
   "outputs": [],
   "source": []
  }
 ],
 "metadata": {
  "kernelspec": {
   "display_name": "Python 3",
   "language": "python",
   "name": "python3"
  },
  "language_info": {
   "codemirror_mode": {
    "name": "ipython",
    "version": 3
   },
   "file_extension": ".py",
   "mimetype": "text/x-python",
   "name": "python",
   "nbconvert_exporter": "python",
   "pygments_lexer": "ipython3",
   "version": "3.6.0"
  }
 },
 "nbformat": 4,
 "nbformat_minor": 2
}
