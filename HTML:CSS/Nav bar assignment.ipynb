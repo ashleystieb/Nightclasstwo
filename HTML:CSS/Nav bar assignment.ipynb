{
 "cells": [
  {
   "cell_type": "markdown",
   "metadata": {},
   "source": [
    "## Create a simple navigation bar at the top of your page\n",
    "\n",
    "* Include the following links \n",
    "    * Home\n",
    "    * About\n",
    "    * Products\n",
    "    * Contact\n",
    "* Have each link just go to some random article for now\n",
    "* The nav bar should be done using flex box and divs only\n",
    "* give each div a border of 2px solid\n",
    "* have the container div that holds all links take up 100% of the page width\n",
    "* change the styling so the background color of the link changes on hover\n",
    "* Make the navbar fixed at the top of the page\n"
   ]
  }
 ],
 "metadata": {
  "kernelspec": {
   "display_name": "Python 3",
   "language": "python",
   "name": "python3"
  },
  "language_info": {
   "codemirror_mode": {
    "name": "ipython",
    "version": 3
   },
   "file_extension": ".py",
   "mimetype": "text/x-python",
   "name": "python",
   "nbconvert_exporter": "python",
   "pygments_lexer": "ipython3",
   "version": "3.6.0"
  }
 },
 "nbformat": 4,
 "nbformat_minor": 2
}
