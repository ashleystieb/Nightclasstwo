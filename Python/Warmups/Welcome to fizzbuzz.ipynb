{
 "cells": [
  {
   "cell_type": "markdown",
   "metadata": {},
   "source": [
    "\n",
    "<h1> Welcome to fizzbuzz!!! </h1>\n",
    "\n",
    "<p> This is one of the most iconic programming interview questions because it test your basic abilities using common computer science fundementals.</p>\n",
    "\n",
    "<h2> The Question: </h2>\n",
    "\n",
    "<p id=\"question\">\n",
    "    \n",
    "    Print the numbers from 1 to 100\n",
    "    \n",
    "    <ul>\n",
    "        <li> If the number is divisible by 3 print 'Fizz' insted </li>\n",
    "        \n",
    "        <li> If the number is divisible by 5 print 'Buzz' instead </li>\n",
    "        \n",
    "        <li> If the number is divisible by both 3 and 5 print 'FizzBuzz' instead </li>\n",
    "    \n",
    "    </ul>\n",
    "\n",
    "</p>\n",
    "\n",
    "<h3>May The Odds be Ever In Your Favor</h3>\n"
   ]
  }
 ],
 "metadata": {
  "kernelspec": {
   "display_name": "Python 3",
   "language": "python",
   "name": "python3"
  },
  "language_info": {
   "codemirror_mode": {
    "name": "ipython",
    "version": 3
   },
   "file_extension": ".py",
   "mimetype": "text/x-python",
   "name": "python",
   "nbconvert_exporter": "python",
   "pygments_lexer": "ipython3",
   "version": "3.6.0"
  }
 },
 "nbformat": 4,
 "nbformat_minor": 2
}
