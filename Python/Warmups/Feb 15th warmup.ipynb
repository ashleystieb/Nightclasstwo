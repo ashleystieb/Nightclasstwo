{
 "cells": [
  {
   "cell_type": "markdown",
   "metadata": {},
   "source": [
    "Write a function called \"how_many\" This function will have two input parameters: \n",
    "\n",
    "The first call num_list which is a list containing integers\n",
    "The second called number which is just a single integer\n",
    "\n",
    "Have this funtion search throught the list and count how many times the input parameter number is in the input parameter num_list\n",
    "\n",
    "(No using the built in count function you have to do it the hard way)\n",
    "\n",
    "Run it against the following doctest to see if your function works\n",
    "\n",
    "Save the file as feb_15_warmup.py and push to your github after you are finished\n",
    "\n"
   ]
  },
  {
   "cell_type": "code",
   "execution_count": null,
   "metadata": {
    "collapsed": true
   },
   "outputs": [],
   "source": [
    "'''\n",
    ">>> num_list = [1,1,1,1,1,1]\n",
    ">>> how_many(num_list,1)\n",
    "6\n",
    ">>> second_num_list = [1,4,3,7,7,8,9]\n",
    ">>> how_many(second_num_list,7)\n",
    "2\n",
    ">>> how_many(second_num_list,20)\n",
    "0\n",
    "'''"
   ]
  }
 ],
 "metadata": {
  "kernelspec": {
   "display_name": "Python 3",
   "language": "python",
   "name": "python3"
  },
  "language_info": {
   "codemirror_mode": {
    "name": "ipython",
    "version": 3
   },
   "file_extension": ".py",
   "mimetype": "text/x-python",
   "name": "python",
   "nbconvert_exporter": "python",
   "pygments_lexer": "ipython3",
   "version": "3.6.0"
  }
 },
 "nbformat": 4,
 "nbformat_minor": 2
}
