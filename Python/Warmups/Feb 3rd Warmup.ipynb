{
 "cells": [
  {
   "cell_type": "markdown",
   "metadata": {},
   "source": [
    "<p> Write the following function called print_numbers that has one integer input parameter called number and print the numbers from 1 up until number except if the number is even and divisible by 3 print \"Penguin\" instead </p>\n",
    "\n",
    "<h4> Example </h4>\n",
    "\n",
    "<p> >>> print_numbers(13)\n",
    "</p>\n",
    "<p>\n",
    "1 2 3 4 5 \"Penguin\" 7 8 9 10 11 \"Penguin\" 13\n",
    "</p>\n",
    "<p>\n",
    "    >>> print_numbers(4)\n",
    "</p>\n",
    "<p>\n",
    "1 2 3 4\n",
    "</p>"
   ]
  },
  {
   "cell_type": "markdown",
   "metadata": {},
   "source": [
    "<h6> When your finished push to the warmup folder on you git-hub repository </h6>"
   ]
  },
  {
   "cell_type": "markdown",
   "metadata": {},
   "source": [
    "<h3> Solution Below...</h3>"
   ]
  },
  {
   "cell_type": "code",
   "execution_count": null,
   "metadata": {
    "collapsed": true
   },
   "outputs": [],
   "source": [
    "def print_numbers(number):\n",
    "    # For loop to loop from 1 until number\n",
    "    for num in range(1,number +1):\n",
    "        if num % 2 == 0 and num % 3 == 0:\n",
    "            print(\"Penguin\")\n",
    "        else:\n",
    "            print(num)\n",
    "            \n",
    "print_numbers(100)"
   ]
  }
 ],
 "metadata": {
  "kernelspec": {
   "display_name": "Python 3",
   "language": "python",
   "name": "python3"
  },
  "language_info": {
   "codemirror_mode": {
    "name": "ipython",
    "version": 3
   },
   "file_extension": ".py",
   "mimetype": "text/x-python",
   "name": "python",
   "nbconvert_exporter": "python",
   "pygments_lexer": "ipython3",
   "version": "3.6.0"
  }
 },
 "nbformat": 4,
 "nbformat_minor": 2
}
