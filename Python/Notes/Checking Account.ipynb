{
 "cells": [
  {
   "cell_type": "code",
   "execution_count": null,
   "metadata": {
    "collapsed": true
   },
   "outputs": [],
   "source": [
    "class Checking:\n",
    "    \n",
    "    def __init(self,*args, **kwargs):\n",
    "        self.balance = 0\n",
    "        self.transactions = []\n",
    "        \n",
    "    def deposit(self,amount):\n",
    "        self.balance += amount\n",
    "        message = \"Deposited {} into checking\".format(amount)\n",
    "        self.transactions.append(message)\n",
    "        \n",
    "    def withdraw(self,amount):\n",
    "        pass\n",
    "    \n",
    "    def get_transations(self):\n",
    "        for i in self.transactions:\n",
    "            print(i)\n",
    "            \n",
    "self.getmember(9).checking.balance"
   ]
  }
 ],
 "metadata": {
  "kernelspec": {
   "display_name": "Python 3",
   "language": "python",
   "name": "python3"
  },
  "language_info": {
   "codemirror_mode": {
    "name": "ipython",
    "version": 3
   },
   "file_extension": ".py",
   "mimetype": "text/x-python",
   "name": "python",
   "nbconvert_exporter": "python",
   "pygments_lexer": "ipython3",
   "version": "3.6.0"
  }
 },
 "nbformat": 4,
 "nbformat_minor": 2
}
