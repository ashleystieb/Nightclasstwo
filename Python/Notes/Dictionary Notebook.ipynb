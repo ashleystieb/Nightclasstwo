{
 "cells": [
  {
   "cell_type": "code",
   "execution_count": null,
   "metadata": {
    "collapsed": false
   },
   "outputs": [],
   "source": [
    "id_count = 0\n",
    "students = {}\n",
    "\n",
    "def add_student(name,age):\n",
    "    global students\n",
    "    global id_count\n",
    "    temp_dictionary = {\"name\":name, \"age\":age}\n",
    "    students[id_count] = temp_dictionary\n",
    "    id_count +=1\n",
    "    \n",
    "\n",
    "add_student(\"Matt\", 23)\n",
    "add_student(\"Tom\", 99)\n",
    "add_student(\"Tom\", 23)\n",
    "add_student(\"macy\", 19)\n",
    "print(students)\n",
    "\n",
    "mine = {1:'a',2:'b',3:'c'}\n",
    "\n",
    "for letter in mine:\n",
    "    print(mine[letter])\n",
    "\n"
   ]
  },
  {
   "cell_type": "code",
   "execution_count": null,
   "metadata": {
    "collapsed": false
   },
   "outputs": [],
   "source": [
    "person = {\"name\":\"Mathew\",\"age\":23}\n",
    "person[\"city\"] = ['seattle', \"portland\", \"chicago\"]\n",
    "print(person[\"city\"][1])\n",
    "person['state'] = \"Oregon\"\n",
    "print(person)\n",
    "person['state'] = \"Washington\"\n",
    "print(person)\n",
    "\n",
    "\n"
   ]
  },
  {
   "cell_type": "code",
   "execution_count": null,
   "metadata": {
    "collapsed": false
   },
   "outputs": [],
   "source": [
    "person.items()"
   ]
  },
  {
   "cell_type": "code",
   "execution_count": null,
   "metadata": {
    "collapsed": false
   },
   "outputs": [],
   "source": [
    "for key, value in person.items():\n",
    "    #question = input(key)\n",
    "    print(key,value)"
   ]
  },
  {
   "cell_type": "code",
   "execution_count": null,
   "metadata": {
    "collapsed": true
   },
   "outputs": [],
   "source": []
  }
 ],
 "metadata": {
  "kernelspec": {
   "display_name": "Python 3",
   "language": "python",
   "name": "python3"
  },
  "language_info": {
   "codemirror_mode": {
    "name": "ipython",
    "version": 3
   },
   "file_extension": ".py",
   "mimetype": "text/x-python",
   "name": "python",
   "nbconvert_exporter": "python",
   "pygments_lexer": "ipython3",
   "version": "3.6.0"
  }
 },
 "nbformat": 4,
 "nbformat_minor": 2
}
