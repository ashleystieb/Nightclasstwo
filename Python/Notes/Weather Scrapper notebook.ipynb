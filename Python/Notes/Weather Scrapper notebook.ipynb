{
 "cells": [
  {
   "cell_type": "code",
   "execution_count": 4,
   "metadata": {
    "collapsed": false
   },
   "outputs": [],
   "source": [
    "import requests\n",
    "from bs4 import BeautifulSoup\n",
    "import pandas as pd\n",
    "\n",
    "\n",
    "page = requests.get('http://forecast.weather.gov/MapClick.php?lat=45.5234&lon=-122.6762#.WK5FJxIrJE5')\n",
    "\n",
    "soup = BeautifulSoup(page.content, 'html.parser')\n",
    "#print(soup.prettify())\n"
   ]
  },
  {
   "cell_type": "code",
   "execution_count": 11,
   "metadata": {
    "collapsed": false
   },
   "outputs": [
    {
     "name": "stdout",
     "output_type": "stream",
     "text": [
      "Tonight\n",
      "ChanceShowers thenAreas Fog\n",
      "Low: 33 °F\n",
      "Tonight: A 50 percent chance of showers before 10pm.  Areas of fog after 1am.  Otherwise, mostly cloudy, with a low around 33. Light and variable wind. \n"
     ]
    }
   ],
   "source": [
    "seven_day = soup.find(id=\"seven-day-forecast\")\n",
    "forecast_items = seven_day.find_all(class_=\"tombstone-container\")\n",
    "tonight = forecast_items[0]\n",
    "\n",
    "period = tonight.find(class_ = \"period-name\").get_text()\n",
    "short_desc = tonight.find(class_ = \"short-desc\").get_text()\n",
    "temp = tonight.find(class_=\"temp\").get_text()\n",
    "img = tonight.find(\"img\")\n",
    "desc = img['title']\n",
    "print(period)\n",
    "print(short_desc)\n",
    "print(temp)\n",
    "print(desc)\n"
   ]
  },
  {
   "cell_type": "code",
   "execution_count": 13,
   "metadata": {
    "collapsed": false
   },
   "outputs": [],
   "source": [
    "period_tags = seven_day.select(\".tombstone-container .period-name\")\n",
    "periods = [period.get_text() for period in period_tags]\n",
    "short_descs = [desc.get_text() for desc in seven_day.select(\".tombstone-container .short-desc \")]\n",
    "temps = [temp.get_text() for temp in seven_day.select(\".tombstone-container .temp \")]\n",
    "descs = [description['title'] for description in seven_day.select(\".tombstone-container img \")]\n"
   ]
  },
  {
   "cell_type": "code",
   "execution_count": 14,
   "metadata": {
    "collapsed": false
   },
   "outputs": [
    {
     "data": {
      "text/html": [
       "<div>\n",
       "<table border=\"1\" class=\"dataframe\">\n",
       "  <thead>\n",
       "    <tr style=\"text-align: right;\">\n",
       "      <th></th>\n",
       "      <th>descs</th>\n",
       "      <th>period</th>\n",
       "      <th>short_desc</th>\n",
       "      <th>temp</th>\n",
       "    </tr>\n",
       "  </thead>\n",
       "  <tbody>\n",
       "    <tr>\n",
       "      <th>0</th>\n",
       "      <td>Tonight: A 50 percent chance of showers before...</td>\n",
       "      <td>Tonight</td>\n",
       "      <td>ChanceShowers thenAreas Fog</td>\n",
       "      <td>Low: 33 °F</td>\n",
       "    </tr>\n",
       "    <tr>\n",
       "      <th>1</th>\n",
       "      <td>Thursday: A chance of rain and snow showers, m...</td>\n",
       "      <td>Thursday</td>\n",
       "      <td>ChanceRain/Snow andAreas Fog</td>\n",
       "      <td>High: 45 °F</td>\n",
       "    </tr>\n",
       "    <tr>\n",
       "      <th>2</th>\n",
       "      <td>Thursday Night: A chance of rain and snow show...</td>\n",
       "      <td>ThursdayNight</td>\n",
       "      <td>ChanceRain/Snowthen MostlyCloudy</td>\n",
       "      <td>Low: 35 °F</td>\n",
       "    </tr>\n",
       "    <tr>\n",
       "      <th>3</th>\n",
       "      <td>Friday: Rain and snow showers likely.  Cloudy,...</td>\n",
       "      <td>Friday</td>\n",
       "      <td>Rain/SnowLikely</td>\n",
       "      <td>High: 41 °F</td>\n",
       "    </tr>\n",
       "    <tr>\n",
       "      <th>4</th>\n",
       "      <td>Friday Night: A chance of rain and snow shower...</td>\n",
       "      <td>FridayNight</td>\n",
       "      <td>ChanceRain/Snow</td>\n",
       "      <td>Low: 33 °F</td>\n",
       "    </tr>\n",
       "    <tr>\n",
       "      <th>5</th>\n",
       "      <td>Saturday: Mostly sunny, with a high near 46.</td>\n",
       "      <td>Saturday</td>\n",
       "      <td>Mostly Sunny</td>\n",
       "      <td>High: 46 °F</td>\n",
       "    </tr>\n",
       "    <tr>\n",
       "      <th>6</th>\n",
       "      <td>Saturday Night: A slight chance of rain shower...</td>\n",
       "      <td>SaturdayNight</td>\n",
       "      <td>Slight ChanceRain/Snow</td>\n",
       "      <td>Low: 35 °F</td>\n",
       "    </tr>\n",
       "    <tr>\n",
       "      <th>7</th>\n",
       "      <td>Sunday: Rain and snow showers likely.  Mostly ...</td>\n",
       "      <td>Sunday</td>\n",
       "      <td>Rain/SnowLikely</td>\n",
       "      <td>High: 44 °F</td>\n",
       "    </tr>\n",
       "    <tr>\n",
       "      <th>8</th>\n",
       "      <td>Sunday Night: A chance of rain and snow shower...</td>\n",
       "      <td>SundayNight</td>\n",
       "      <td>ChanceRain/Snow</td>\n",
       "      <td>Low: 36 °F</td>\n",
       "    </tr>\n",
       "  </tbody>\n",
       "</table>\n",
       "</div>"
      ],
      "text/plain": [
       "                                               descs         period  \\\n",
       "0  Tonight: A 50 percent chance of showers before...        Tonight   \n",
       "1  Thursday: A chance of rain and snow showers, m...       Thursday   \n",
       "2  Thursday Night: A chance of rain and snow show...  ThursdayNight   \n",
       "3  Friday: Rain and snow showers likely.  Cloudy,...         Friday   \n",
       "4  Friday Night: A chance of rain and snow shower...    FridayNight   \n",
       "5       Saturday: Mostly sunny, with a high near 46.       Saturday   \n",
       "6  Saturday Night: A slight chance of rain shower...  SaturdayNight   \n",
       "7  Sunday: Rain and snow showers likely.  Mostly ...         Sunday   \n",
       "8  Sunday Night: A chance of rain and snow shower...    SundayNight   \n",
       "\n",
       "                         short_desc         temp  \n",
       "0       ChanceShowers thenAreas Fog   Low: 33 °F  \n",
       "1      ChanceRain/Snow andAreas Fog  High: 45 °F  \n",
       "2  ChanceRain/Snowthen MostlyCloudy   Low: 35 °F  \n",
       "3                   Rain/SnowLikely  High: 41 °F  \n",
       "4                   ChanceRain/Snow   Low: 33 °F  \n",
       "5                      Mostly Sunny  High: 46 °F  \n",
       "6            Slight ChanceRain/Snow   Low: 35 °F  \n",
       "7                   Rain/SnowLikely  High: 44 °F  \n",
       "8                   ChanceRain/Snow   Low: 36 °F  "
      ]
     },
     "execution_count": 14,
     "metadata": {},
     "output_type": "execute_result"
    }
   ],
   "source": [
    "weather = pd.DataFrame({\n",
    "    \"period\":periods,\n",
    "    \"short_desc\": short_descs,\n",
    "    \"temp\": temps,\n",
    "    \"descs\": descs\n",
    "})\n",
    "weather"
   ]
  },
  {
   "cell_type": "code",
   "execution_count": null,
   "metadata": {
    "collapsed": true
   },
   "outputs": [],
   "source": []
  }
 ],
 "metadata": {
  "kernelspec": {
   "display_name": "Python 3",
   "language": "python",
   "name": "python3"
  },
  "language_info": {
   "codemirror_mode": {
    "name": "ipython",
    "version": 3
   },
   "file_extension": ".py",
   "mimetype": "text/x-python",
   "name": "python",
   "nbconvert_exporter": "python",
   "pygments_lexer": "ipython3",
   "version": "3.6.0"
  }
 },
 "nbformat": 4,
 "nbformat_minor": 2
}
