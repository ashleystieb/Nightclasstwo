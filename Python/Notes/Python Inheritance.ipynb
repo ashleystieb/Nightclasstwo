{
 "cells": [
  {
   "cell_type": "markdown",
   "metadata": {},
   "source": [
    "## Python Inheritance\n",
    "\n",
    "---\n",
    "\n",
    "Inheritance enables us to define a class that takes all the functionality from it's parent class while allowing us to add more.\n",
    "\n",
    "\n",
    "\n"
   ]
  },
  {
   "cell_type": "markdown",
   "metadata": {},
   "source": [
    "\n",
    "---\n",
    "\n"
   ]
  },
  {
   "cell_type": "markdown",
   "metadata": {},
   "source": [
    "![alt text](https://cdn.programiz.com/sites/tutorial2program/files/inheritance-C%2B%2B_programming.jpg)"
   ]
  },
  {
   "cell_type": "markdown",
   "metadata": {},
   "source": [
    "\n",
    "\n",
    "\n",
    "### So why is Inheritance such a powerful feature in object oriented programming?\n",
    "\n",
    "\n"
   ]
  },
  {
   "cell_type": "markdown",
   "metadata": {},
   "source": [
    "\n",
    "That is because it helps with defining a new class with little or no modifications to an eisting class. As illustrated above, this new class is called the **derived (or child) class** and the class that it inherits from is called the **base (or parent) class**\n",
    "\n",
    "## Python Inheritance Syntax \n",
    "\n",
    "---\n",
    "\n",
    "    class BaseClass:\n",
    "        //Code for your base class\n",
    "        \n",
    "    class DerivedClass(BaseClass):\n",
    "        //Code for your derived class\n",
    "        \n",
    "---\n"
   ]
  },
  {
   "cell_type": "markdown",
   "metadata": {},
   "source": [
    "\n",
    "The Derived class will inherit features from the base class, then adding new features to it as needed. This results in better re-usability of code.\n",
    "\n",
    "---\n",
    "\n"
   ]
  },
  {
   "cell_type": "markdown",
   "metadata": {},
   "source": [
    "## Example of Inheritance\n",
    "\n",
    "---\n",
    "\n",
    "To show you an example of inheritance we will use one of the most popular examples of this by using shapes\n",
    "\n",
    "#### Definition: A **Polygon** is a closed figure with 3 or more sides.\n",
    "\n",
    "---\n",
    "\n",
    "We will create a python class called Polygon with the following attributes\n",
    "\n",
    "1. Class name Polygon\n",
    "\n",
    "2. Constuctor will take 1 additional parameter number_of_sides\n",
    "    * number_of_sides: This will represent the total number of sides for our polygon \n",
    "    \n",
    "    * Another instance variable called sides: This will be a list of 0's representing the size of each side\n",
    "    \n",
    "3. A function called input_sides \n",
    "    * This function will ask the user for float values for each side in the sides instance variable\n",
    "    \n",
    "4. A function display_sides\n",
    "    * This function will just print the value of each side in our polygon\n",
    "    \n",
    "#### Lets Start with the class definition and the init function\n",
    "\n",
    "---\n",
    "\n",
    "```python\n",
    "\n",
    "class Polygon:\n",
    "\n",
    "    def __init__(self,number_of_sides,*args,**kwargs):\n",
    "        self.number_of_sides = number_of_sides\n",
    "        self.sides = [0 for i in range(number_of_sides)]\n",
    "```\n",
    "\n",
    "---\n",
    "\n"
   ]
  },
  {
   "cell_type": "markdown",
   "metadata": {},
   "source": [
    "#### Now for the input_sides function\n",
    "\n",
    "```python\n",
    "def input_sides(self):\n",
    "    for i in range(self.number_of_sides):\n",
    "        self.sides[i] = float(input('Enter side '+str(i+1)+\":\"))\n",
    "    \n",
    "```\n",
    "\n",
    "---\n"
   ]
  },
  {
   "cell_type": "markdown",
   "metadata": {},
   "source": [
    "#### Here is the display sides function\n",
    "\n",
    "```python\n",
    "def display_sides(self):\n",
    "        for i in range(self.number_of_sides):\n",
    "            print(\"Side\",i+1,\"is\",self.sides[i])\n",
    "```\n",
    "\n",
    "---\n"
   ]
  },
  {
   "cell_type": "markdown",
   "metadata": {},
   "source": [
    "### Now for the whole class together\n",
    "\n",
    "---"
   ]
  },
  {
   "cell_type": "code",
   "execution_count": 2,
   "metadata": {
    "collapsed": true
   },
   "outputs": [],
   "source": [
    "\n",
    "class Polygon:\n",
    "\n",
    "    def __init__(self,number_of_sides,*args,**kwargs):\n",
    "        self.number_of_sides = number_of_sides\n",
    "        self.sides = [0 for i in range(number_of_sides)]\n",
    "        \n",
    "    def input_sides(self):\n",
    "        for i in range(self.number_of_sides):\n",
    "            self.sides[i] = float(input('Enter side '+str(i+1)+\":\"))\n",
    "        \n",
    "        \n",
    "    def display_sides(self):\n",
    "        for i in range(self.number_of_sides):\n",
    "            print(\"Side\",i+1,\"is\",self.sides[i])\n",
    "       "
   ]
  },
  {
   "cell_type": "markdown",
   "metadata": {},
   "source": [
    "\n",
    "---\n",
    "\n",
    "As mentioned above this Polygon class has the data attributes to store the number of sides, **number_of_sides** and magnitude of each side as a list, **sides**\n",
    "\n",
    "Function **input_sides()** takes in a magnitude of each side and similarly, **display_sides()** will display these properly\n",
    "\n",
    "---\n",
    "\n"
   ]
  },
  {
   "cell_type": "markdown",
   "metadata": {},
   "source": [
    "### How to use inheritence \n",
    "\n",
    "---\n",
    "\n",
    "##### Remember: \n",
    "\n",
    "A Polygon is a shape with at least three sides\n",
    "\n",
    "#### Triangle Class:\n",
    "\n",
    "A triangle is consider a Polygon with 3 sides. So, we can create a class called Triangle which inherits from Polygon. This Makes all the attributes available in class Polygon readily available in Triangle. We don't need to define them again (code re-usability). \n",
    "\n",
    "#### Triangle is defined as follows.\n",
    "\n",
    "1. Class Definiton: \n",
    "    * Called Triangle and will inherit from Polygon\n",
    "    \n",
    "2. Constuctor: \n",
    "    * No extra arguments just calles the Polygon's init function\n",
    "    * Will pass the argument 3 for number_of_sides in Polygon's init()\n",
    "    \n",
    "3. A Function called find_area:\n",
    "    * The find_area() function will calculate the area of the triangle:\n",
    "        \n",
    "### Important:\n",
    "#### Remember not all triangles are considered equal:\n",
    "\n",
    "\n",
    "Normally we would calculate the area of a triangle with the traditional (base * height)/ 2\n",
    "\n",
    "\n",
    "\\begin{equation}\n",
    "   A  = \\frac{(b*h)}{2}\n",
    "\\end{equation}\n",
    "\n",
    "\n",
    "but because our users enter the length of each side in our Polygon class we will need to use the semiperimeter and Heron's formula to calculate the area\n",
    "\n",
    "---\n",
    "\n",
    "#### Semiperimeter Formula\n",
    "\n",
    "The formula for the semiperimeter of a triangle with side lengths a, b, and c is,\n",
    "\n",
    "\\begin{equation}\n",
    "s = \\frac{a+b+c}{2}\n",
    "\\end{equation}\n",
    "\n",
    "---\n",
    "\n",
    "#### Area of a Triangle\n",
    "\n",
    "The area of a triangle can also be calculated from its semiperimeter and side lengths ''a, b, c'' using Heron's formula:\n",
    "\n",
    "\\begin{equation}\n",
    "A = \\sqrt{s\\left(s-a\\right)\\left(s-b\\right)\\left(s-c\\right)}\n",
    "\\end{equation}\n",
    "\n",
    "---\n",
    "\n",
    "#### Side Note...\n",
    "\n",
    "I won't go into proving while these equations work if you are interested in the mathematics behind it I wrote down more details in this \n",
    "[notebook](https://github.com/mjhemmingsen/Nightclasstwo/blob/master/Python/Notes/Semipermiter%20and%20Heron's%20Proof.ipynb)\n",
    "\n"
   ]
  },
  {
   "cell_type": "code",
   "execution_count": 3,
   "metadata": {
    "collapsed": false
   },
   "outputs": [
    {
     "ename": "SyntaxError",
     "evalue": "invalid syntax (<ipython-input-3-dba25f0f24f2>, line 12)",
     "output_type": "error",
     "traceback": [
      "\u001b[0;36m  File \u001b[0;32m\"<ipython-input-3-dba25f0f24f2>\"\u001b[0;36m, line \u001b[0;32m12\u001b[0m\n\u001b[0;31m    However, class Triangle has a new method findArea() to find and print the area of the triangle. Here is a sample run.\u001b[0m\n\u001b[0m                 ^\u001b[0m\n\u001b[0;31mSyntaxError\u001b[0m\u001b[0;31m:\u001b[0m invalid syntax\n"
     ]
    }
   ],
   "source": [
    "\n",
    "class Triangle(Polygon):\n",
    "    def __init__(self):\n",
    "        Polygon.__init__(self,3)\n",
    "\n",
    "    def findArea(self):\n",
    "        a, b, c = self.sides\n",
    "        # calculate the semi-perimeter\n",
    "        s = (a + b + c) / 2\n",
    "        area = (s*(s-a)*(s-b)*(s-c)) ** 0.5\n",
    "        print('The area of the triangle is %0.2f' %area)\n",
    "However, class Triangle has a new method findArea() to find and print the area of the triangle. Here is a sample run.\n",
    "\n",
    ">>> t = Triangle()\n",
    "\n",
    ">>> t.inputSides()\n",
    "Enter side 1 : 3\n",
    "Enter side 2 : 5\n",
    "Enter side 3 : 4\n",
    "\n",
    ">>> t.dispSides()\n",
    "Side 1 is 3.0\n",
    "Side 2 is 5.0\n",
    "Side 3 is 4.0\n",
    "\n",
    ">>> t.findArea()\n",
    "The area of the triangle is 6.00\n",
    "We can see that, even though we did not define methods like inputSides() or dispSides() for class Triangle, we were able to use them.\n",
    "\n",
    "If an attribute is not found in the class, search continues to the base class. This repeats recursively, if the base class is itself derived from other classes.\n",
    "\n"
   ]
  },
  {
   "cell_type": "code",
   "execution_count": null,
   "metadata": {
    "collapsed": true
   },
   "outputs": [],
   "source": []
  }
 ],
 "metadata": {
  "celltoolbar": "Raw Cell Format",
  "kernelspec": {
   "display_name": "Python 3",
   "language": "python",
   "name": "python3"
  },
  "language_info": {
   "codemirror_mode": {
    "name": "ipython",
    "version": 3
   },
   "file_extension": ".py",
   "mimetype": "text/x-python",
   "name": "python",
   "nbconvert_exporter": "python",
   "pygments_lexer": "ipython3",
   "version": "3.6.0"
  }
 },
 "nbformat": 4,
 "nbformat_minor": 2
}
