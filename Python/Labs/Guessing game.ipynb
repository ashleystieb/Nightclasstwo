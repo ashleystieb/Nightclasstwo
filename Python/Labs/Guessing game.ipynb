{
 "cells": [
  {
   "cell_type": "markdown",
   "metadata": {},
   "source": [
    "<h1> Computer Guessing Game </h1>\n",
    "\n",
    "<p> Create a program that generates a random number between 1 and 10 this will be the computer number! Now keep letting the user guess a number to see if it is equal to the computers number. Once they guess correctly print a congratulations message. If they guess wrong print. Sorry you guessed wrong </p>\n",
    "\n",
    "\n",
    "<h2> Advance Level 1 (only complete after you finish above)</h2>\n",
    "\n",
    "<p> Keep track of how many time the user guesses and return to them at the end how many guesses it took them to get the correct number</p>\n",
    "\n",
    "<h2> Advance Level 2 (only complete after finishing Advance Level 1) </h2>\n",
    "\n",
    "<p> Give the user only an x amount of guesses to guess the number correctly now still incorperating the following from above </p>\n",
    "\n",
    "<h2> Extremely advance (Only complete after finishing Advance level 2) </h2>\n",
    "\n",
    "<p> Now switch it up so that you enter a number between 1 and 100 and now you have the computer keep guessing until they guess right. Make your computer smart by getting it to guess the number correctly within 7 tries! This is the maxium attempts in the worst case scenario it should take for a computer to guess the number </p>"
   ]
  },
  {
   "cell_type": "code",
   "execution_count": null,
   "metadata": {
    "collapsed": true
   },
   "outputs": [],
   "source": []
  }
 ],
 "metadata": {
  "kernelspec": {
   "display_name": "Python 3",
   "language": "python",
   "name": "python3"
  },
  "language_info": {
   "codemirror_mode": {
    "name": "ipython",
    "version": 3
   },
   "file_extension": ".py",
   "mimetype": "text/x-python",
   "name": "python",
   "nbconvert_exporter": "python",
   "pygments_lexer": "ipython3",
   "version": "3.6.0"
  }
 },
 "nbformat": 4,
 "nbformat_minor": 2
}
