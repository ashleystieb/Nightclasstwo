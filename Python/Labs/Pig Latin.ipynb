{
 "cells": [
  {
   "cell_type": "markdown",
   "metadata": {},
   "source": [
    "<h1> Pig Latin Assignment </h1>\n",
    "\n",
    "<p> Create a program that translates a word into pig latin rules will be below </p>\n",
    "\n",
    "<ol>\n",
    "<li> Take the First letter of the word and add it to the end </li>\n",
    "<ul>\n",
    "    <li> If the first letter is a vowel add 'yay' to the end of the word\n",
    "    <li> If the first letter is a consonant add 'ay' to the end instead \n",
    "</ul>\n",
    "<li> Return the word back to the user </li>\n",
    "</ol>\n",
    "\n",
    "<h3> To pass with distinction </h3>\n",
    "\n",
    "<p> Instead of translating one word let the user enter whole sentences and translate every word in that sentence </p>\n",
    "\n",
    "<h3> Don't Forget To Do The Following!!!</h3>\n",
    "\n",
    "<ol>\n",
    "    <li> Write docstrings for every function you write </li>\n",
    "    <li> Write doctest for every function where applicable </li>\n",
    "    <li> Run the program out of a main function </li>\n",
    "</ol>\n",
    "\n",
    "\n",
    "<h4> Due Friday Feb 10th..... </h4>\n"
   ]
  }
 ],
 "metadata": {
  "kernelspec": {
   "display_name": "Python 3",
   "language": "python",
   "name": "python3"
  },
  "language_info": {
   "codemirror_mode": {
    "name": "ipython",
    "version": 3
   },
   "file_extension": ".py",
   "mimetype": "text/x-python",
   "name": "python",
   "nbconvert_exporter": "python",
   "pygments_lexer": "ipython3",
   "version": "3.6.0"
  }
 },
 "nbformat": 4,
 "nbformat_minor": 2
}
