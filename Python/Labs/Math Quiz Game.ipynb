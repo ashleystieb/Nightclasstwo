{
 "cells": [
  {
   "cell_type": "markdown",
   "metadata": {},
   "source": [
    "<h1> Math Quiz Game </h1>\n",
    "\n",
    "<p> You will create a Math quiz game that will ask the user 5 predefined modulus division questions and keep track of how many they get wrong and how many they get right </p>\n",
    "\n",
    "\n",
    "<h2> Requirements </h2>\n",
    "\n",
    "<p> Feel free to implement the assignment how you see fit the only requirements are as follows </p>\n",
    "\n",
    "<ul>\n",
    "    <li>Use a dictionary to store questions and answers (Requirement)</li>\n",
    "    <li>Ask 5 questions to the user and get their response for each one </li>\n",
    "    <li>Keep track of how many right and how many wrong</li>\n",
    "    <li>Display results at the end of the quiz to the user</li>\n",
    "    \n",
    "</ul>"
   ]
  }
 ],
 "metadata": {
  "kernelspec": {
   "display_name": "Python 3",
   "language": "python",
   "name": "python3"
  },
  "language_info": {
   "codemirror_mode": {
    "name": "ipython",
    "version": 3
   },
   "file_extension": ".py",
   "mimetype": "text/x-python",
   "name": "python",
   "nbconvert_exporter": "python",
   "pygments_lexer": "ipython3",
   "version": "3.6.0"
  }
 },
 "nbformat": 4,
 "nbformat_minor": 2
}
