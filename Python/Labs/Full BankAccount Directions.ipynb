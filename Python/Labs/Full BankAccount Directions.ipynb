{
 "cells": [
  {
   "cell_type": "markdown",
   "metadata": {},
   "source": [
    "Create a checking account class that has the following attributes\n",
    "\n",
    "balance --> initialize to 0\n",
    "transactions --> initialize to an empyt list\n",
    "\n",
    "FUNCTIONS\n",
    "\n",
    "deposit\n",
    "withdrawl\n",
    "balance\n",
    "\n",
    "\n",
    "\n",
    "Create a savings account class that has the following attributes\n",
    "\n",
    "\n",
    "balance --> initialize to 0\n",
    "transactions --> initialize to an empty list\n",
    "intrestRate --> define in constuctor\n",
    "\n",
    "FUNCTIONS\n",
    "\n",
    "deposit\n",
    "withdrawl\n",
    "balance\n",
    "applyIntrest\n",
    "\n",
    "\n",
    "Create a BankAccount class with the following attributes\n",
    "\n",
    "idnumber --> initialize to be a random number between 1 and 1000 \n",
    "checkingAccount --> initialize to a new checking account\n",
    "savingsAccount --> initialize to a new savings account\n",
    "totalDeposits --> 0\n",
    "totalWithdraw --> 0\n",
    "totalBalance --> checkingBal + savingsBal\n",
    "\n",
    "FUNCTIONS\n",
    "\n",
    "withdraw --> (self, amount, account)\n",
    "deposit --> (self, amount, account)\n",
    "transfer --> transfer(self, to, from, amount)\n",
    "\n",
    "getters for all attributes\n",
    "\n",
    "a __str__ repr of the BankAccount\n",
    "\n",
    "\n"
   ]
  }
 ],
 "metadata": {
  "kernelspec": {
   "display_name": "Python 3",
   "language": "python",
   "name": "python3"
  },
  "language_info": {
   "codemirror_mode": {
    "name": "ipython",
    "version": 3
   },
   "file_extension": ".py",
   "mimetype": "text/x-python",
   "name": "python",
   "nbconvert_exporter": "python",
   "pygments_lexer": "ipython3",
   "version": "3.6.0"
  }
 },
 "nbformat": 4,
 "nbformat_minor": 2
}
