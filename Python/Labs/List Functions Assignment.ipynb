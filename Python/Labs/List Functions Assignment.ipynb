{
 "cells": [
  {
   "cell_type": "markdown",
   "metadata": {},
   "source": [
    "<h1> List Functions Assignment</h1>\n",
    "\n",
    "<h3> Due Febuary 8th, 2017 </h3>\n",
    "\n",
    "<p> Implement the following functions on a list of integers</p>\n",
    "\n",
    "\n",
    "<p> Make sure you have the following things before submission </p>\n",
    "\n",
    "<ul>\n",
    " <li>Docstrings for each function</li>\n",
    " <li>Doctest for each function</li>\n",
    " <li>Comment your code!!!!!!!!</li> \n",
    "</ul>\n",
    "\n",
    "<p>For distinction credit implement all the solutions as well as make sure the input parameters are fesiable and throw exceptions if not</p>\n"
   ]
  },
  {
   "cell_type": "code",
   "execution_count": null,
   "metadata": {
    "collapsed": true
   },
   "outputs": [],
   "source": [
    "numbers = [4,5,5,6,7,3,7,5,8,6,8,9,9,8,5,5]\n",
    "\n",
    "'''\n",
    "Slices the last number from the list (aka deletes it)\n",
    "and returns it as an integer\n",
    "'''\n",
    "def slice_last(num_list):\n",
    "    pass\n",
    "\n",
    "'''\n",
    "Reverse the order of the list and returns the list\n",
    "'''\n",
    "def reverse_list(num_list):\n",
    "    pass\n",
    "\n",
    "'''\n",
    "Double every other element in the reversed list.\n",
    "returns the list\n",
    "'''\n",
    "def double_every_other(num_list):\n",
    "    pass\n",
    "\n",
    "'''\n",
    "Subtract nine from numbers over nine.\n",
    "returns the list\n",
    "'''\n",
    "def subtract_from_digits(num_list):\n",
    "    pass\n",
    "\n",
    "'''\n",
    "Sum all values.\n",
    "returns the sum\n",
    "'''\n",
    "def sum_values(num_list):\n",
    "    pass\n",
    "\n",
    "\n",
    "def main():\n",
    "    # Call all functions here\n",
    "    pass\n",
    "\n",
    "\n",
    "main()\n",
    "\n"
   ]
  }
 ],
 "metadata": {
  "kernelspec": {
   "display_name": "Python 3",
   "language": "python",
   "name": "python3"
  },
  "language_info": {
   "codemirror_mode": {
    "name": "ipython",
    "version": 3
   },
   "file_extension": ".py",
   "mimetype": "text/x-python",
   "name": "python",
   "nbconvert_exporter": "python",
   "pygments_lexer": "ipython3",
   "version": "3.6.0"
  }
 },
 "nbformat": 4,
 "nbformat_minor": 2
}
