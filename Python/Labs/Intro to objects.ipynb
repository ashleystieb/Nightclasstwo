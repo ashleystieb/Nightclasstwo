{
 "cells": [
  {
   "cell_type": "markdown",
   "metadata": {},
   "source": [
    "Create a class called student \n",
    "\n",
    "Every student has the following instance variables \n",
    "\n",
    "name --> String --> Declared in constructor\n",
    "\n",
    "year(aka year in school) --> Integer --> Declared in constructor\n",
    "\n",
    "grade(current course grade aka 88% ect..) --> float--> Initialize to 0.0\n",
    "\n",
    "scores --> List ---> Initialize to empty\n",
    "\n",
    "Create the following functions\n",
    "\n",
    "get_name\n",
    "\n",
    "get_year\n",
    "\n",
    "\n",
    "\n",
    "get_scores --> sum of the list / 100 (To find the sum use a for loop)\n",
    "\n"
   ]
  }
 ],
 "metadata": {
  "kernelspec": {
   "display_name": "Python 3",
   "language": "python",
   "name": "python3"
  },
  "language_info": {
   "codemirror_mode": {
    "name": "ipython",
    "version": 3
   },
   "file_extension": ".py",
   "mimetype": "text/x-python",
   "name": "python",
   "nbconvert_exporter": "python",
   "pygments_lexer": "ipython3",
   "version": "3.6.0"
  }
 },
 "nbformat": 4,
 "nbformat_minor": 2
}
