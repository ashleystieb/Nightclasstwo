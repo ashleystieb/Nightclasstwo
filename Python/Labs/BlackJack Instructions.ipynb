{
 "cells": [
  {
   "cell_type": "markdown",
   "metadata": {},
   "source": [
    "<h1> Blackjack </h1>\n",
    "\n",
    "<h3> Let's start modeling a game of <a href=\"https://en.wikipedia.org/wiki/Blackjack\">Blackjack</a></h3>"
   ]
  },
  {
   "cell_type": "markdown",
   "metadata": {},
   "source": [
    "<h4> Card class </h4>\n",
    "\n",
    "<p> This class should be used to create a card with a suit and a rank </p>\n",
    "\n",
    "<h4> Deck class </h4>\n",
    "\n",
    "<p> This class should store a list of 52 cards </p>\n",
    "\n",
    "<h4> Hand Class </h4>\n",
    "\n",
    "<p> This class should represent a collections of cards from a deck </p>\n",
    "\n",
    "<h4> Game Class </h4>\n",
    "\n",
    "<p> This is where our game will run </p>"
   ]
  },
  {
   "cell_type": "markdown",
   "metadata": {},
   "source": [
    "<h2> Using multiple Classes </h2>\n",
    "\n",
    "<h1> Deck Class </h1>\n",
    "\n",
    "<h4> In the Deck class implement the methods that:</h4>\n",
    "\n",
    "<ul>\n",
    "    <li> Creates a Deck (i.e a list of 52 Card class instances) </li>\n",
    "    <li> Return a shuffled deck (look at list.shuffle()) </li>\n",
    "    <li> Draw a card off the top of a Deck (again can be found in list class)</li>\n",
    "\n",
    "</ul>\n",
    "<hr>\n",
    "<h1> Hand Class </h1>\n",
    "\n",
    "<h4> In the hand class implement the methods that:</h4>\n",
    "\n",
    "<ul>\n",
    "    <li> Add a card to you Hand </li>\n",
    "    <li> Get the score of your hand </li>\n",
    "\n",
    "</ul>\n",
    "\n",
    "\n",
    "<hr>\n",
    "<h1> Game class </h1>\n",
    "\n",
    "<h4> In the Game class implement the methods that: </h4>\n",
    "\n",
    "<ul>\n",
    "    <li> Start a new Game of Blackjack, or Quit </li>\n",
    "    <li> Gets the score of a Hand </li>\n",
    "    <li> Bust if the score is over 21</li>\n",
    "</ul>\n",
    "\n",
    "<hr>\n",
    "\n",
    "<h4> Scoring </h4>\n",
    "\n",
    "<span> Cards have integer point values.\n",
    "Aces are 1 or 11, number cards are their number, face cards are all 10.\n",
    "A hand is worth the sum of all the points of the cards in it.\n",
    "An ace is worth 1 when the hand it's a part of would be over 21 if it was worth 11. </span>\n",
    "<hr>\n",
    "<h3> Part One....</h3>\n",
    "\n",
    "<span> For simplicity to start out only worry about one player not including the dealer. When playing through with one player they should be allowed to hit or stay. If they hit add a card to their hand and display their score. If they bust end that game for the player and display a message. If they stay then display their final score to them </span>\n",
    "<hr>\n",
    "<h3> Part Two...</h3> \n",
    "\n",
    "<span> Once you get the first part working now add in the dealer. Feel free to implement this however you want I suggest creating a seperate dealer class. Remeber a dealer has to hit until their hand score is at least 17, but once their hand score is 17 or above they have to stay </span>\n",
    "\n",
    "<h5> Note...</h5>\n",
    "\n",
    "<span> The player always goes first after the player either stay's or bust than the dealer goes after that determine a winner and print some message </span>\n",
    "<hr>\n",
    "<h3> Part Three...(optional)</h3>\n",
    "\n",
    "<span> Now add in multiple players and get a game working for that </span>\n",
    "<hr>\n",
    "<h3> Part Four...(optional)</h3>\n",
    "\n",
    "<span> Now add in a betting system where a player has a bankroll and makes bets every turn</span>\n",
    "<hr>\n",
    "<h3> Part Five...(optional)</h3>\n",
    "\n",
    "<span> Whatever else you can think of! Start adding in things like splitting and doubling down </span>\n",
    "\n"
   ]
  },
  {
   "cell_type": "code",
   "execution_count": null,
   "metadata": {
    "collapsed": true
   },
   "outputs": [],
   "source": []
  }
 ],
 "metadata": {
  "kernelspec": {
   "display_name": "Python 3",
   "language": "python",
   "name": "python3"
  },
  "language_info": {
   "codemirror_mode": {
    "name": "ipython",
    "version": 3
   },
   "file_extension": ".py",
   "mimetype": "text/x-python",
   "name": "python",
   "nbconvert_exporter": "python",
   "pygments_lexer": "ipython3",
   "version": "3.6.0"
  }
 },
 "nbformat": 4,
 "nbformat_minor": 2
}
