{
 "cells": [
  {
   "cell_type": "markdown",
   "metadata": {},
   "source": [
    "Create a Checking account class in this class you should have the following\n",
    "\n",
    "\n",
    "first name of owner --> Declared in constructor\n",
    "last name of owner --> Declared in constructor\n",
    "balance --> Optional Argument using args      \n",
    "transaction history\n",
    "widthdrawl total\n",
    "deposit total \n",
    "\n",
    "\n",
    "deposit functions --> adds money to your balance and logs the transaction\n",
    "in the form of \"You deposited {} into your account\" , update balance and deposit total\n",
    "\n",
    "withdrawl function --> takes money out of your balance and logs the transaction in the form of \"You withdrew {} into your account\", update balance and withdrawl total\n",
    "\n",
    "get_transaction_history function --> prints the transaction history\n",
    "\n",
    "get_widthdrawl_total --> returns the widthdrawl total\n",
    "\n",
    "get_deposit_total --> returns the deposit total\n",
    "\n",
    "get_balance --> returns balance\n",
    "\n",
    "\n",
    "\n",
    "\n",
    "__________________________________________________________________________\n",
    "\n",
    "Inside of a new main.py file write a main function that displays a atm style menu and allows you to cont.. to make choices until user decides to quit \n",
    "\n",
    "The menu will look like the following \n",
    "\n",
    "Hello (first last name) pick one of the follow\n",
    "\n",
    "1) Deposite money\n",
    "\n",
    "2) Withdraw\n",
    "\n",
    "3) check balance\n",
    "\n",
    "4) View transactions\n",
    "\n",
    "5) quit \n",
    "\n",
    "When users decide to quit display the following goodbye message\n",
    "\n",
    "\n",
    "Goodbye (first last name) your total deposites for this session were {deposite total} and your total withdrawl for this session were {withdrawl total} your final balance in your account is {balance}\n",
    "\n",
    "\n",
    "\n",
    "\n"
   ]
  }
 ],
 "metadata": {
  "kernelspec": {
   "display_name": "Python 3",
   "language": "python",
   "name": "python3"
  },
  "language_info": {
   "codemirror_mode": {
    "name": "ipython",
    "version": 3
   },
   "file_extension": ".py",
   "mimetype": "text/x-python",
   "name": "python",
   "nbconvert_exporter": "python",
   "pygments_lexer": "ipython3",
   "version": "3.6.0"
  }
 },
 "nbformat": 4,
 "nbformat_minor": 2
}
