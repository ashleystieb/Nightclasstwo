{
 "cells": [
  {
   "cell_type": "markdown",
   "metadata": {},
   "source": [
    "<h1> Create your own version of the iconic tic tac toe game </h1>\n",
    "\n",
    "<h2> Except......</h2>\n",
    "\n",
    "<p> Before you start working on the game you need to write out and submit a full written up plan on how you intend on programming the first part of the game which is described below </p>\n",
    "\n",
    "\n",
    "<h2> Part 1 </h2>\n",
    "\n",
    "<p> Everything in a normal tic tac toe game except checking win conditions so a player needs to be able to make a move and that move appear on the board but only if it is a legal move! Write out how you intend to represent all of your data for this program i.e 'I will represent the board as a 2d 3 by 3 list' as well as list all functions you will use and write docstring string comments for each function. </p>\n",
    "\n",
    "<h3> Hint....</h3>\n",
    "<p> You will need a print_board() function that prints the board after every move </p>\n",
    "\n",
    "<p> After you have the signiture of the program written out now write the psuedo-code for each function as well as doctest for each function where it apply's </p> \n",
    "\n",
    "<h2> Now.....</h2>\n",
    "\n",
    "<p> After all that has been complete go ahead and start coding </p>\n",
    "\n",
    "<h1> Part 2 </h1>\n",
    "\n",
    "<p> Now implement win conditions </p>"
   ]
  },
  {
   "cell_type": "code",
   "execution_count": null,
   "metadata": {
    "collapsed": true
   },
   "outputs": [],
   "source": []
  }
 ],
 "metadata": {
  "kernelspec": {
   "display_name": "Python 3",
   "language": "python",
   "name": "python3"
  },
  "language_info": {
   "codemirror_mode": {
    "name": "ipython",
    "version": 3
   },
   "file_extension": ".py",
   "mimetype": "text/x-python",
   "name": "python",
   "nbconvert_exporter": "python",
   "pygments_lexer": "ipython3",
   "version": "3.6.0"
  }
 },
 "nbformat": 4,
 "nbformat_minor": 2
}
