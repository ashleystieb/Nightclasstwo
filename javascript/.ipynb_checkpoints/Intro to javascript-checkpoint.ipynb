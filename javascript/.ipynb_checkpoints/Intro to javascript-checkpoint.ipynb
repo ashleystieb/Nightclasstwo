{
 "cells": [
  {
   "cell_type": "markdown",
   "metadata": {},
   "source": [
    "### Try the following on your own (Don't worry we will go over all this) \n",
    "\n",
    "First attempt to link your javascript file to your html file and log to the console \"hello javascript\" once that is completed do the following below\n",
    "\n",
    "You know the concepts of variables from python so now look up how to create a variable using javascript and attempt the following \n",
    "\n",
    "\n",
    "* create a variable named 'numberOne' and set it equal to 7\n",
    "* create a variable named 'numberTwo' and set it equal to 3\n",
    "* create a variable named result and set it equal to numberOne + numberTwo\n",
    "* now log result to the console (hint we did this yesterday)"
   ]
  },
  {
   "cell_type": "markdown",
   "metadata": {},
   "source": [
    "Now look up how to create a function in javascript and really focus on the syntax it is different than python but the idea's are the same.\n",
    "\n",
    "Try and create a function called add that takes two input parameters and log the result of the two input parameters"
   ]
  }
 ],
 "metadata": {
  "kernelspec": {
   "display_name": "Python 3",
   "language": "python",
   "name": "python3"
  },
  "language_info": {
   "codemirror_mode": {
    "name": "ipython",
    "version": 3
   },
   "file_extension": ".py",
   "mimetype": "text/x-python",
   "name": "python",
   "nbconvert_exporter": "python",
   "pygments_lexer": "ipython3",
   "version": "3.6.0"
  }
 },
 "nbformat": 4,
 "nbformat_minor": 2
}
